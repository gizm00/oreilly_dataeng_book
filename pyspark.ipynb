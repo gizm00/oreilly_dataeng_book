{
 "cells": [
  {
   "cell_type": "code",
   "execution_count": 33,
   "metadata": {},
   "outputs": [],
   "source": [
    "from hypothesis_jsonschema import from_schema\n",
    "from importlib import reload # For reload to work need to import the module level for a method\n",
    "from pyspark.sql import SparkSession\n",
    "from pyspark.sql import types as T\n",
    "\n",
    "from ch7_testing import faker_example, util"
   ]
  },
  {
   "cell_type": "code",
   "execution_count": 3,
   "metadata": {},
   "outputs": [
    {
     "name": "stderr",
     "output_type": "stream",
     "text": [
      "Using Spark's default log4j profile: org/apache/spark/log4j-defaults.properties\n",
      "Setting default log level to \"WARN\".\n",
      "To adjust logging level use sc.setLogLevel(newLevel). For SparkR, use setLogLevel(newLevel).\n",
      "22/05/07 15:17:09 WARN NativeCodeLoader: Unable to load native-hadoop library for your platform... using builtin-java classes where applicable\n",
      "22/05/07 15:17:10 WARN Utils: Service 'SparkUI' could not bind on port 4040. Attempting port 4041.\n"
     ]
    }
   ],
   "source": [
    "spark = (SparkSession\n",
    "         .builder\n",
    "         .appName('oreilly-book')\n",
    "         .getOrCreate())"
   ]
  },
  {
   "cell_type": "code",
   "execution_count": 22,
   "metadata": {},
   "outputs": [
    {
     "data": {
      "text/plain": [
       "<module 'ch7_testing.util' from '/Users/gizmo/dev/oreilly_dataeng_book/ch7_testing/util.py'>"
      ]
     },
     "execution_count": 22,
     "metadata": {},
     "output_type": "execute_result"
    }
   ],
   "source": [
    "reload(util)"
   ]
  },
  {
   "cell_type": "code",
   "execution_count": 25,
   "metadata": {},
   "outputs": [
    {
     "name": "stderr",
     "output_type": "stream",
     "text": [
      "                                                                                \r"
     ]
    }
   ],
   "source": [
    "data,_ = faker_example.create_mock_data(10)\n",
    "df = util.df_from_list_dict(data, spark.sparkContext)"
   ]
  },
  {
   "cell_type": "code",
   "execution_count": 32,
   "metadata": {},
   "outputs": [
    {
     "data": {
      "text/plain": [
       "{'type': 'struct',\n",
       " 'fields': [{'name': 'count',\n",
       "   'type': 'long',\n",
       "   'nullable': True,\n",
       "   'metadata': {}},\n",
       "  {'name': 'description', 'type': 'string', 'nullable': True, 'metadata': {}},\n",
       "  {'name': 'img_files',\n",
       "   'type': {'type': 'array', 'elementType': 'string', 'containsNull': True},\n",
       "   'nullable': True,\n",
       "   'metadata': {}},\n",
       "  {'name': 'location',\n",
       "   'type': {'type': 'struct',\n",
       "    'fields': [{'name': '_1',\n",
       "      'type': 'string',\n",
       "      'nullable': True,\n",
       "      'metadata': {}},\n",
       "     {'name': '_2', 'type': 'string', 'nullable': True, 'metadata': {}},\n",
       "     {'name': '_3', 'type': 'string', 'nullable': True, 'metadata': {}},\n",
       "     {'name': '_4', 'type': 'string', 'nullable': True, 'metadata': {}},\n",
       "     {'name': '_5', 'type': 'string', 'nullable': True, 'metadata': {}}]},\n",
       "   'nullable': True,\n",
       "   'metadata': {}},\n",
       "  {'name': 'user', 'type': 'string', 'nullable': True, 'metadata': {}}]}"
      ]
     },
     "execution_count": 32,
     "metadata": {},
     "output_type": "execute_result"
    }
   ],
   "source": [
    "df.schema.jsonValue()"
   ]
  },
  {
   "cell_type": "code",
   "execution_count": 57,
   "metadata": {},
   "outputs": [
    {
     "data": {
      "text/plain": [
       "[StructField(count,LongType,true),\n",
       " StructField(description,StringType,true),\n",
       " StructField(img_files,ArrayType(StringType,true),true),\n",
       " StructField(location,StructType(List(StructField(_1,StringType,true),StructField(_2,StringType,true),StructField(_3,StringType,true),StructField(_4,StringType,true),StructField(_5,StringType,true))),true),\n",
       " StructField(user,StringType,true)]"
      ]
     },
     "execution_count": 57,
     "metadata": {},
     "output_type": "execute_result"
    }
   ],
   "source": [
    "df.schema.fields"
   ]
  },
  {
   "cell_type": "code",
   "execution_count": 46,
   "metadata": {},
   "outputs": [
    {
     "data": {
      "text/plain": [
       "integers()"
      ]
     },
     "execution_count": 46,
     "metadata": {},
     "output_type": "execute_result"
    }
   ],
   "source": [
    "# from_schema(df.schema.jsonValue()['fields'][0])\n",
    "# df.schema.jsonValue()['fields'][0]\n",
    "from_schema({\"name\": \"count\", \"type\": \"integer\", \"nullable\": True, \"metadata\": {}})"
   ]
  },
  {
   "cell_type": "code",
   "execution_count": 31,
   "metadata": {},
   "outputs": [
    {
     "data": {
      "text/plain": [
       "integers(min_value=1, max_value=9)"
      ]
     },
     "execution_count": 31,
     "metadata": {},
     "output_type": "execute_result"
    }
   ],
   "source": [
    "from_schema({\"type\": \"integer\", \"minimum\": 1, \"exclusiveMaximum\": 10})"
   ]
  },
  {
   "cell_type": "code",
   "execution_count": 50,
   "metadata": {},
   "outputs": [
    {
     "data": {
      "text/plain": [
       "builds(error_raiser)"
      ]
     },
     "execution_count": 50,
     "metadata": {},
     "output_type": "execute_result"
    }
   ],
   "source": [
    "# from_schema({'type': 'struct', 'fields': [{'name': 'count','type': 'integer','nullable': True,'metadata': {}}]})\n",
    "from_schema({'fields': [{'name': 'count','type': 'integer','nullable': True,'metadata': {}}]})"
   ]
  },
  {
   "cell_type": "code",
   "execution_count": 58,
   "metadata": {},
   "outputs": [],
   "source": [
    "test_schema = {\n",
    "    \"name\": \"user\", \"type\": \"text\",\n",
    "    \"name\": \"location\", \"type\": \"text\",\n",
    "    \"name\": \"description\", \"type\": \"text\",\n",
    "    \"name\": \"count\", \"type\": \"integer\"\n",
    "    }"
   ]
  },
  {
   "cell_type": "code",
   "execution_count": 59,
   "metadata": {},
   "outputs": [
    {
     "data": {
      "text/plain": [
       "integers()"
      ]
     },
     "execution_count": 59,
     "metadata": {},
     "output_type": "execute_result"
    },
    {
     "name": "stderr",
     "output_type": "stream",
     "text": [
      "22/05/07 20:06:22 WARN HeartbeatReceiver: Removing executor driver with no recent heartbeats: 415090 ms exceeds timeout 120000 ms\n",
      "22/05/07 20:06:22 WARN SparkContext: Killing executors is not supported by current scheduler.\n"
     ]
    }
   ],
   "source": [
    "from_schema(test_schema)"
   ]
  },
  {
   "cell_type": "code",
   "execution_count": null,
   "metadata": {},
   "outputs": [],
   "source": []
  }
 ],
 "metadata": {
  "interpreter": {
   "hash": "fb7b8bfb6ac614464896853891df516a4667eefc219e35743e3f3725c8af6be0"
  },
  "kernelspec": {
   "display_name": "Python 3.8.5 64-bit ('oreilly-book')",
   "language": "python",
   "name": "python3"
  },
  "language_info": {
   "codemirror_mode": {
    "name": "ipython",
    "version": 3
   },
   "file_extension": ".py",
   "mimetype": "text/x-python",
   "name": "python",
   "nbconvert_exporter": "python",
   "pygments_lexer": "ipython3",
   "version": "3.8.5"
  },
  "orig_nbformat": 4
 },
 "nbformat": 4,
 "nbformat_minor": 2
}
